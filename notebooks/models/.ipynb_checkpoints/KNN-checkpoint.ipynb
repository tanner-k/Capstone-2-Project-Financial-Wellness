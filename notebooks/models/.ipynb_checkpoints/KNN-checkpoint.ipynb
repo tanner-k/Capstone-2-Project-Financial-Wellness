{
 "cells": [
  {
   "cell_type": "markdown",
   "id": "4002160a",
   "metadata": {},
   "source": [
    "# KNN\n"
   ]
  },
  {
   "cell_type": "code",
   "execution_count": 1,
   "id": "2e878b43",
   "metadata": {},
   "outputs": [],
   "source": [
    "import warnings\n",
    "warnings.filterwarnings('ignore')\n",
    "import pandas as pd\n",
    "import numpy as np\n",
    "import sklearn\n",
    "import matplotlib.pyplot as plt\n",
    "import seaborn as sns\n",
    "\n",
    "sns.set()"
   ]
  },
  {
   "cell_type": "code",
   "execution_count": 2,
   "id": "0742834c",
   "metadata": {},
   "outputs": [],
   "source": [
    "X_train = pd.read_csv(\"../../data/X_train.csv\", index_col=0)\n",
    "y_train = pd.read_csv(\"../../data/y_train.csv\", index_col=0)\n",
    "X_test = pd.read_csv(\"../../data/X_test.csv\", index_col=0)\n",
    "y_test = pd.read_csv(\"../../data/y_test.csv\", index_col=0)"
   ]
  },
  {
   "cell_type": "markdown",
   "id": "5f00c32b",
   "metadata": {},
   "source": [
    "## Feature selection\n",
    "\n",
    "Because there are so many features it may be helpful to use PCA or another feature reduction method to do so before creating the model. Create a simple KNN model with the first two principal components and a visualization to see how well it performs. \n"
   ]
  },
  {
   "cell_type": "code",
   "execution_count": 3,
   "id": "f455e1d3",
   "metadata": {},
   "outputs": [],
   "source": [
    "# Most important prediction features from Logit model\n",
    "features = {}\n",
    "features[\"Happiness\"] = [\"Housing satisfaction\", \"FWBscore\", \"Stress\", \"Health\", \"Race_Hispanic\", \n",
    "                         \"KHscore\", \"Age\", \"Education\", \"Unemployed\", \"Marital status_2\"]\n",
    "\n",
    "features[\"Future\"] = [\"Probability of 75 years\", \"Goal confidence\", \"FSscore\", \"Race_Black - Non-Hispanic\", \"Age\",\n",
    "                      \"Housing satisfaction\", \"FWBscore\", \"Stress\", \"Health\", \"Race_Hispanic\"]\n",
    "\n",
    "features[\"Hardwork\"] = [\"Age\", \"Housing satisfaction\", \"Health\", \"FSscore\", \"Materialism\", \"Race_Hispanic\", \n",
    "                        \"Probability of 75 years\", \"Planning\", \"FWBscore\", \"Student\"]\n",
    "\n"
   ]
  },
  {
   "cell_type": "markdown",
   "id": "e5faeccb",
   "metadata": {},
   "source": [
    "## Hyperparameter tuning\n",
    "\n"
   ]
  },
  {
   "cell_type": "code",
   "execution_count": 4,
   "id": "c094032e",
   "metadata": {},
   "outputs": [],
   "source": [
    "def hyperparameter_tuning(X_train, X_test, y_train, y_test, function, param_grid, scoring, cv):\n",
    "    mod_cv = sklearn.model_selection.GridSearchCV(function, param_grid=param_grid, scoring=scoring, cv=cv)\n",
    "    \n",
    "    mod_cv.fit(X_train, y_train)\n",
    "    best_param = mod_cv.best_params_\n",
    "    best_train_score = mod_cv.best_score_\n",
    "    \n",
    "    y_pred = mod_cv.predict(X_test)\n",
    "    \n",
    "    score_dict = {\"Best Hyperparameters\": best_param,\n",
    "                  \"Best training score\": best_train_score,\n",
    "                  \"Accuracy\": sklearn.metrics.accuracy_score(y_test, y_pred), \n",
    "                  \"F1 score\": sklearn.metrics.f1_score(y_test, y_pred),\n",
    "                  \"AUC\": sklearn.metrics.roc_auc_score(y_test, y_pred)}\n",
    "            \n",
    "    return score_dict, y_pred"
   ]
  },
  {
   "cell_type": "code",
   "execution_count": 5,
   "id": "2552e155",
   "metadata": {
    "scrolled": true
   },
   "outputs": [
    {
     "name": "stdout",
     "output_type": "stream",
     "text": [
      "Happiness prediction \n",
      "\n",
      "{'Best Hyperparameters': {'n_neighbors': 9, 'p': 2}, 'Best training score': 0.7178166838311019, 'Accuracy': 0.7265238879736409, 'F1 score': 0.7465648854961833, 'AUC': 0.7249978132995125} \n",
      "\n",
      "Future prediction \n",
      "\n",
      "{'Best Hyperparameters': {'n_neighbors': 9, 'p': 1}, 'Best training score': 0.6838311019567456, 'Accuracy': 0.6968698517298187, 'F1 score': 0.7306002928257687, 'AUC': 0.6912685617775438} \n",
      "\n",
      "Hardwork prediction \n",
      "\n",
      "{'Best Hyperparameters': {'n_neighbors': 9, 'p': 1}, 'Best training score': 0.6366632337796087, 'Accuracy': 0.6260296540362438, 'F1 score': 0.6868965517241379, 'AUC': 0.6107127022833074} \n",
      "\n"
     ]
    }
   ],
   "source": [
    "from sklearn.neighbors import KNeighborsClassifier\n",
    "\n",
    "knn = KNeighborsClassifier()\n",
    "param_grid = {\"n_neighbors\": np.arange(2, 10, 1),\n",
    "              \"p\": [1, 2]}\n",
    "\n",
    "scores_simplified = {}\n",
    "y_preds_simplified = {}\n",
    "\n",
    "for i in y_train.columns:\n",
    "    print(f\"{i} prediction\", \"\\n\")\n",
    "    \n",
    "    X_train_simplified = X_train[features[i]]\n",
    "    X_test_simplified = X_test[features[i]]\n",
    "    \n",
    "    train = y_train[i]\n",
    "    test = y_test[i]\n",
    "    \n",
    "    scores_simplified[i], y_preds_simplified[i] = hyperparameter_tuning(X_train_simplified, X_test_simplified, train, test, knn, param_grid, \"accuracy\", 5)\n",
    "    \n",
    "    print(scores_simplified[i], \"\\n\")"
   ]
  },
  {
   "cell_type": "code",
   "execution_count": 6,
   "id": "3daae572",
   "metadata": {
    "scrolled": true
   },
   "outputs": [
    {
     "name": "stdout",
     "output_type": "stream",
     "text": [
      "Happiness prediction \n",
      "\n",
      "{'Best Hyperparameters': {'n_neighbors': 8, 'p': 1}, 'Best training score': 0.7077239958805355, 'Accuracy': 0.6680395387149918, 'F1 score': 0.7012601927353596, 'AUC': 0.6633793269335899} \n",
      "\n",
      "Future prediction \n",
      "\n",
      "{'Best Hyperparameters': {'n_neighbors': 9, 'p': 1}, 'Best training score': 0.6700308959835221, 'Accuracy': 0.6457990115321252, 'F1 score': 0.7009735744089012, 'AUC': 0.6336557653922923} \n",
      "\n",
      "Hardwork prediction \n",
      "\n",
      "{'Best Hyperparameters': {'n_neighbors': 9, 'p': 1}, 'Best training score': 0.6203913491246138, 'Accuracy': 0.6202635914332785, 'F1 score': 0.6903962390866353, 'AUC': 0.6001246951895367} \n",
      "\n"
     ]
    }
   ],
   "source": [
    "from sklearn.neighbors import KNeighborsClassifier\n",
    "\n",
    "knn = KNeighborsClassifier()\n",
    "param_grid = {\"n_neighbors\": np.arange(2, 10, 1),\n",
    "              \"p\": [1, 2]}\n",
    "\n",
    "scores = {}\n",
    "y_preds = {}\n",
    "\n",
    "for i in y_train.columns:\n",
    "    print(f\"{i} prediction\", \"\\n\")\n",
    "    \n",
    "    train = y_train[i]\n",
    "    test = y_test[i]\n",
    "    \n",
    "    scores[i], y_preds[i] = hyperparameter_tuning(X_train, X_test, train, test, knn, param_grid, \"accuracy\", 5)\n",
    "    \n",
    "    print(scores[i], \"\\n\")"
   ]
  },
  {
   "cell_type": "markdown",
   "id": "3e348c65",
   "metadata": {},
   "source": [
    "## Model Evaluation\n",
    "\n",
    "ROC curve and area under the curve visualization. Recall, Precision, Specificity, and F1 Score. Recognize that this model is being used to predict the above very happy, optimistic about the future, and the importance of hardwork so precision and recall may be important metrics to pay attention to. "
   ]
  },
  {
   "cell_type": "code",
   "execution_count": 7,
   "id": "dd199378",
   "metadata": {},
   "outputs": [
    {
     "data": {
      "image/png": "[encoded data removed]",
      "text/plain": [
       "<Figure size 648x648 with 1 Axes>"
      ]
     },
     "metadata": {},
     "output_type": "display_data"
    }
   ],
   "source": [
    "def plot_roc(y_true, y_pred, labels):\n",
    "    fig, ax = plt.subplots(1, 1, figsize=(9,9))\n",
    "    for label in labels:\n",
    "        fpr, tpr, _ = sklearn.metrics.roc_curve(y_true[label], y_pred[label])\n",
    "        auc = sklearn.metrics.auc(fpr, tpr)\n",
    "        display = sklearn.metrics.RocCurveDisplay(fpr=fpr, tpr=tpr, roc_auc=auc, estimator_name=label)\n",
    "        display.plot(ax=ax)\n",
    "    \n",
    "    plt.title(\"ROC curve comparison\")\n",
    "    plt.savefig(\"../../results/KNN_ROC.pdf\")\n",
    "    plt.show()\n",
    "\n",
    "plot_roc(y_test, y_preds_simplified, y_test.columns)"
   ]
  },
  {
   "cell_type": "code",
   "execution_count": 8,
   "id": "be9b763d",
   "metadata": {},
   "outputs": [
    {
     "data": {
      "text/html": [
       "<div>\n",
       "<style scoped>\n",
       "    .dataframe tbody tr th:only-of-type {\n",
       "        vertical-align: middle;\n",
       "    }\n",
       "\n",
       "    .dataframe tbody tr th {\n",
       "        vertical-align: top;\n",
       "    }\n",
       "\n",
       "    .dataframe thead th {\n",
       "        text-align: right;\n",
       "    }\n",
       "</style>\n",
       "<table border=\"1\" class=\"dataframe\">\n",
       "  <thead>\n",
       "    <tr style=\"text-align: right;\">\n",
       "      <th></th>\n",
       "      <th>Best training score</th>\n",
       "      <th>Accuracy</th>\n",
       "      <th>F1 score</th>\n",
       "      <th>AUC</th>\n",
       "      <th>Target</th>\n",
       "      <th>Model</th>\n",
       "    </tr>\n",
       "  </thead>\n",
       "  <tbody>\n",
       "    <tr>\n",
       "      <th>1</th>\n",
       "      <td>0.755712</td>\n",
       "      <td>0.747941</td>\n",
       "      <td>0.775660</td>\n",
       "      <td>0.742803</td>\n",
       "      <td>Happiness</td>\n",
       "      <td>Logistic Regression</td>\n",
       "    </tr>\n",
       "    <tr>\n",
       "      <th>1</th>\n",
       "      <td>0.717608</td>\n",
       "      <td>0.714992</td>\n",
       "      <td>0.752504</td>\n",
       "      <td>0.706899</td>\n",
       "      <td>Future</td>\n",
       "      <td>Logistic Regression</td>\n",
       "    </tr>\n",
       "    <tr>\n",
       "      <th>1</th>\n",
       "      <td>0.667356</td>\n",
       "      <td>0.669687</td>\n",
       "      <td>0.731773</td>\n",
       "      <td>0.649861</td>\n",
       "      <td>Hardwork</td>\n",
       "      <td>Logistic Regression</td>\n",
       "    </tr>\n",
       "    <tr>\n",
       "      <th>1</th>\n",
       "      <td>0.707724</td>\n",
       "      <td>0.668040</td>\n",
       "      <td>0.701260</td>\n",
       "      <td>0.663379</td>\n",
       "      <td>Happiness</td>\n",
       "      <td>KNN</td>\n",
       "    </tr>\n",
       "    <tr>\n",
       "      <th>1</th>\n",
       "      <td>0.670031</td>\n",
       "      <td>0.645799</td>\n",
       "      <td>0.700974</td>\n",
       "      <td>0.633656</td>\n",
       "      <td>Future</td>\n",
       "      <td>KNN</td>\n",
       "    </tr>\n",
       "    <tr>\n",
       "      <th>1</th>\n",
       "      <td>0.620391</td>\n",
       "      <td>0.620264</td>\n",
       "      <td>0.690396</td>\n",
       "      <td>0.600125</td>\n",
       "      <td>Hardwork</td>\n",
       "      <td>KNN</td>\n",
       "    </tr>\n",
       "    <tr>\n",
       "      <th>1</th>\n",
       "      <td>0.745005</td>\n",
       "      <td>0.734761</td>\n",
       "      <td>0.764964</td>\n",
       "      <td>0.729112</td>\n",
       "      <td>Happiness</td>\n",
       "      <td>Random Forest</td>\n",
       "    </tr>\n",
       "    <tr>\n",
       "      <th>1</th>\n",
       "      <td>0.707724</td>\n",
       "      <td>0.694399</td>\n",
       "      <td>0.734811</td>\n",
       "      <td>0.686013</td>\n",
       "      <td>Future</td>\n",
       "      <td>Random Forest</td>\n",
       "    </tr>\n",
       "    <tr>\n",
       "      <th>1</th>\n",
       "      <td>0.662204</td>\n",
       "      <td>0.662273</td>\n",
       "      <td>0.729551</td>\n",
       "      <td>0.639761</td>\n",
       "      <td>Hardwork</td>\n",
       "      <td>Random Forest</td>\n",
       "    </tr>\n",
       "    <tr>\n",
       "      <th>1</th>\n",
       "      <td>0.746859</td>\n",
       "      <td>0.745470</td>\n",
       "      <td>0.772627</td>\n",
       "      <td>0.740663</td>\n",
       "      <td>Happiness</td>\n",
       "      <td>XGBoost</td>\n",
       "    </tr>\n",
       "    <tr>\n",
       "      <th>1</th>\n",
       "      <td>0.713079</td>\n",
       "      <td>0.705107</td>\n",
       "      <td>0.744650</td>\n",
       "      <td>0.696579</td>\n",
       "      <td>Future</td>\n",
       "      <td>XGBoost</td>\n",
       "    </tr>\n",
       "    <tr>\n",
       "      <th>1</th>\n",
       "      <td>0.667147</td>\n",
       "      <td>0.663921</td>\n",
       "      <td>0.729443</td>\n",
       "      <td>0.642407</td>\n",
       "      <td>Hardwork</td>\n",
       "      <td>XGBoost</td>\n",
       "    </tr>\n",
       "  </tbody>\n",
       "</table>\n",
       "</div>"
      ],
      "text/plain": [
       "   Best training score  Accuracy  F1 score       AUC     Target  \\\n",
       "1             0.755712  0.747941  0.775660  0.742803  Happiness   \n",
       "1             0.717608  0.714992  0.752504  0.706899     Future   \n",
       "1             0.667356  0.669687  0.731773  0.649861   Hardwork   \n",
       "1             0.707724  0.668040  0.701260  0.663379  Happiness   \n",
       "1             0.670031  0.645799  0.700974  0.633656     Future   \n",
       "1             0.620391  0.620264  0.690396  0.600125   Hardwork   \n",
       "1             0.745005  0.734761  0.764964  0.729112  Happiness   \n",
       "1             0.707724  0.694399  0.734811  0.686013     Future   \n",
       "1             0.662204  0.662273  0.729551  0.639761   Hardwork   \n",
       "1             0.746859  0.745470  0.772627  0.740663  Happiness   \n",
       "1             0.713079  0.705107  0.744650  0.696579     Future   \n",
       "1             0.667147  0.663921  0.729443  0.642407   Hardwork   \n",
       "\n",
       "                 Model  \n",
       "1  Logistic Regression  \n",
       "1  Logistic Regression  \n",
       "1  Logistic Regression  \n",
       "1                  KNN  \n",
       "1                  KNN  \n",
       "1                  KNN  \n",
       "1        Random Forest  \n",
       "1        Random Forest  \n",
       "1        Random Forest  \n",
       "1              XGBoost  \n",
       "1              XGBoost  \n",
       "1              XGBoost  "
      ]
     },
     "execution_count": 8,
     "metadata": {},
     "output_type": "execute_result"
    }
   ],
   "source": [
    "results = pd.read_csv(\"../../results/model_scores.csv\", index_col=0)\n",
    "\n",
    "if results.isin([\"KNN\"]).any(axis=None)==False:\n",
    "    for i in y_train.columns:\n",
    "\n",
    "        s = pd.DataFrame(scores[i]).reset_index().drop(0, axis=0)\n",
    "        s[\"Target\"] = i\n",
    "        s[\"Model\"] = \"KNN\"\n",
    "        results = pd.concat([results, s], axis=0)\n",
    "        results = results.drop([\"Best Hyperparameters\", \"index\"], axis=1)\n",
    "    \n",
    "results"
   ]
  },
  {
   "cell_type": "code",
   "execution_count": 9,
   "id": "6c9bd480",
   "metadata": {},
   "outputs": [],
   "source": [
    "results.to_csv(\"../../results/model_scores.csv\")"
   ]
  },
  {
   "cell_type": "code",
   "execution_count": 20,
   "id": "35524703",
   "metadata": {},
   "outputs": [
    {
     "name": "stdout",
     "output_type": "stream",
     "text": [
      "Happiness scores\n",
      "\n",
      "   Best training score  Accuracy  F1 score       AUC                Model\n",
      "1             0.755712  0.747941  0.775660  0.742803  Logistic Regression\n",
      "1             0.746859  0.745470  0.772627  0.740663              XGBoost\n",
      "1             0.745005  0.734761  0.764964  0.729112        Random Forest\n",
      "1             0.707724  0.668040  0.701260  0.663379                  KNN\n",
      "\n",
      "Future scores\n",
      "\n",
      "   Best training score  Accuracy  F1 score       AUC                Model\n",
      "1             0.717608  0.714992  0.752504  0.706899  Logistic Regression\n",
      "1             0.713079  0.705107  0.744650  0.696579              XGBoost\n",
      "1             0.707724  0.694399  0.734811  0.686013        Random Forest\n",
      "1             0.670031  0.645799  0.700974  0.633656                  KNN\n",
      "\n",
      "Hardwork scores\n",
      "\n",
      "   Best training score  Accuracy  F1 score       AUC                Model\n",
      "1             0.667356  0.669687  0.731773  0.649861  Logistic Regression\n",
      "1             0.667147  0.663921  0.729443  0.642407              XGBoost\n",
      "1             0.662204  0.662273  0.729551  0.639761        Random Forest\n",
      "1             0.620391  0.620264  0.690396  0.600125                  KNN\n",
      "\n"
     ]
    }
   ],
   "source": [
    "for i in y_train.columns:\n",
    "    print(f\"{i} scores\", \"\\n\\n\", \n",
    "          results[results[\"Target\"]==i].drop(\"Target\", axis=1).sort_values(\"Accuracy\", ascending=False), \n",
    "          \"\\n\", sep=\"\")"
   ]
  },
  {
   "cell_type": "code",
   "execution_count": null,
   "id": "fe6c75a7",
   "metadata": {},
   "outputs": [],
   "source": []
  }
 ],
 "metadata": {
  "kernelspec": {
   "display_name": "Python 3 (ipykernel)",
   "language": "python",
   "name": "python3"
  },
  "language_info": {
   "codemirror_mode": {
    "name": "ipython",
    "version": 3
   },
   "file_extension": ".py",
   "mimetype": "text/x-python",
   "name": "python",
   "nbconvert_exporter": "python",
   "pygments_lexer": "ipython3",
   "version": "3.9.7"
  }
 },
 "nbformat": 4,
 "nbformat_minor": 5
}
